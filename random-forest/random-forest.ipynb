{
 "cells": [
  {
   "cell_type": "code",
   "execution_count": 4,
   "metadata": {
    "collapsed": true,
    "pycharm": {
     "is_executing": false
    }
   },
   "outputs": [],
   "source": [
    "import numpy as np\n",
    "import matplotlib.pyplot as plt\n",
    "import csv"
   ]
  },
  {
   "cell_type": "markdown",
   "source": [
    "代码实现流程：\n",
    "（1） 导入文件并将所有特征转换为float形式\n",
    "（2） 将数据集分成n份，方便交叉验证\n",
    "（3） 构造数据子集（随机采样），并在指定特征个数（假设m个，手动调参）下选取最优特征\n",
    "（4） 构造决策树\n",
    "（5） 创建随机森林（多个决策树的结合）\n",
    "（6） 输入测试集并进行测试，输出预测结果"
   ],
   "metadata": {
    "collapsed": false,
    "pycharm": {
     "name": "#%% md\n"
    }
   }
  },
  {
   "cell_type": "code",
   "execution_count": 5,
   "outputs": [],
   "source": [
    "def loadCSV(filename):\n",
    "    dataSet = []\n",
    "    with open(filename,'r') as file:\n",
    "        csvReader = csv.reader(file)\n",
    "        for line in csvReader:\n",
    "            dataSet.append(line)\n",
    "    return dataSet\n",
    "\n",
    "# 除了判别列，其他列都转换为float型\n",
    "def column_to_float(dataSet):\n",
    "    featLen = len(dataSet[0])-1\n",
    "    for data in dataSet:\n",
    "        for colume in range(featLen):\n",
    "            data[colume]=float(data[colume].strip())\n",
    "\n",
    "    "
   ],
   "metadata": {
    "collapsed": false,
    "pycharm": {
     "name": "#%%\n",
     "is_executing": false
    }
   }
  },
  {
   "cell_type": "code",
   "execution_count": 6,
   "outputs": [],
   "source": [
    "# 将数据分成n份，方便交叉验证\n",
    "def splitDataSet(dataSet,n_folds):\n",
    "    fold_size = int(len(dataSet)/n_folds)\n",
    "    dataSet_copy = list(dataSet)\n",
    "    dataSet_split = []\n",
    "    for i in range(n_folds):\n",
    "        fold = []\n",
    "        while len(fold) < fold_size:\n",
    "            index = np.rand.range(len(dataSet_copy))\n",
    "            fold.append(dataSet_copy.pop(index))  \n",
    "        dataSet_split.append(fold)\n",
    "    return dataSet_split"
   ],
   "metadata": {
    "collapsed": false,
    "pycharm": {
     "name": "#%%\n",
     "is_executing": false
    }
   }
  },
  {
   "cell_type": "code",
   "execution_count": 9,
   "outputs": [],
   "source": [
    "# 构造数据子集（随机采样），并在指定特征个数（假设m个，手动调参）下选取最优特征\n",
    "def get_subsample(dataSet,ratio):\n",
    "    subdataSet = []\n",
    "    lenSubdata = round(len(dataSet)*ratio)\n",
    "    while len(subdataSet) < lenSubdata:\n",
    "        index = np.rand.range(len(dataSet)-1)\n",
    "        subdataSet.append(dataSet[index])\n",
    "    return subdataSet\n",
    "\n",
    "# 选取任意的n个特征，在这n个特征中，选取分割时的最优特征\n",
    "def get_best_split(dataSet,n_features):\n",
    "    features = []\n",
    "    class_values = list(set(row[-1] for row in dataSet))\n",
    "    b_index,b_value,b_loss,b_left,b_right=999,999,999,None,None\n",
    "    while len(features)<n_features:\n",
    "        index = np.rand.range(len(dataSet[0])-1)\n",
    "        if index not in features:\n",
    "            features.append(index)\n",
    "    \n",
    "    for index in features:\n",
    "        for row in dataSet:\n",
    "            left,right=data_split(dataSet,index,row[index])\n",
    "            loss = split_loss(left,right,class_values)\n",
    "            if loss<b_loss:\n",
    "                b_index,b_value,b_loss,b_left,b_right=index,row[index],loss,left,right\n",
    "    return {'index':b_index,'value':b_value,'left':b_left,'right':b_right}"
   ],
   "metadata": {
    "collapsed": false,
    "pycharm": {
     "name": "#%%\n",
     "is_executing": false
    }
   }
  },
  {
   "cell_type": "code",
   "execution_count": null,
   "outputs": [],
   "source": [
    "# 构造决策树\n"
   ],
   "metadata": {
    "collapsed": false,
    "pycharm": {
     "name": "#%%\n"
    }
   }
  }
 ],
 "metadata": {
  "language_info": {
   "codemirror_mode": {
    "name": "ipython",
    "version": 2
   },
   "file_extension": ".py",
   "mimetype": "text/x-python",
   "name": "python",
   "nbconvert_exporter": "python",
   "pygments_lexer": "ipython2",
   "version": "2.7.6"
  },
  "kernelspec": {
   "name": "python3",
   "language": "python",
   "display_name": "Python 3"
  },
  "pycharm": {
   "stem_cell": {
    "cell_type": "raw",
    "source": [],
    "metadata": {
     "collapsed": false
    }
   }
  }
 },
 "nbformat": 4,
 "nbformat_minor": 0
}